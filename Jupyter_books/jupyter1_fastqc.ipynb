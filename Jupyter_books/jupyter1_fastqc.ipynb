{
 "cells": [
  {
   "cell_type": "markdown",
   "id": "fd3faf54-4921-4e7e-9859-1fd8d5133805",
   "metadata": {},
   "source": [
    "# __STRATEGIE D'ANALYSE BIOINFORMATIQUE - MENTORING PROJECT__\n",
    "\n",
    "__AGMIMONHAN Attolou Raoul, NAME Pakyendou Estel__\n",
    "\n",
    "__Tuteurs: Aurore COMTE & Sebastien RAVEL__\n",
    "\n",
    "Jupyter inspired by the model created by C. Tranchant (DIADE-IRD), J. Orjuela (DIADE-IRD), F. Sabot (DIADE-IRD) and A. Dereeper (PHIM-IRD)\n",
    "***\n",
    "\n",
    "# <span style=\"color: #006E7F\">Table of contents</span>\n",
    "<a class=\"anchor\" id=\"home\"></a>\n",
    "\n",
    "[PRACTICE I - Acquisition des données issues du séquençage](#data)\n",
    "\n",
    "[PRACTICE II - Contrôle Qualité des reads](#quality) \n",
    "   * [Fastqc  `fastqc`](#quality)\n",
    "   * [Multiqc `multiqc`](#quality)\n",
    "   * [Trimmomatic `trimmomatic`](#trimming)\n",
    "\n",
    "***"
   ]
  },
  {
   "cell_type": "markdown",
   "id": "14759dbc-7abe-4607-9f39-a9c134e49b7d",
   "metadata": {},
   "source": [
    "# __Practice I - Acquisition des données issues du séquençage__"
   ]
  },
  {
   "cell_type": "code",
   "execution_count": null,
   "id": "a255cd6b-a0b1-4e6c-8301-4a349692569c",
   "metadata": {},
   "outputs": [],
   "source": [
    "## Se connecter au cluster sur son terminal via son login\n",
    "\n",
    "ssh login@bioinfo-master1.ird.fr"
   ]
  },
  {
   "cell_type": "code",
   "execution_count": null,
   "id": "e9c050e3-cff1-4bcf-806c-7ed9de44d8a1",
   "metadata": {},
   "outputs": [],
   "source": [
    "## Vérifier le répertoire dans lequel on se trouve\n",
    "\n",
    "pwd"
   ]
  },
  {
   "cell_type": "code",
   "execution_count": null,
   "id": "cf551cb7-68fe-49b8-841b-d9692da5641b",
   "metadata": {},
   "outputs": [],
   "source": [
    "## Créer le working directory \"MOryzae\" dans le répertoire \"scratch\" et se déplacer dedans\n",
    "\n",
    "mkdir -p /scratch/MOryzae\n",
    "\n",
    "cd /scratch/MOryzae\n",
    "\n",
    "## Afficher le chemin absolu\n",
    "\n",
    "pwd\n",
    "\n",
    "## Afficher le contenu du répertoire\n",
    "\n",
    "ls -lh"
   ]
  },
  {
   "cell_type": "code",
   "execution_count": null,
   "id": "30d94c2e-b420-4d4a-be28-0efa4bed6d19",
   "metadata": {},
   "outputs": [],
   "source": [
    "## Créer un sous répertoire \"DATA\" pour les données de séquençage\n",
    "\n",
    "mkdir DATA\n",
    "\n",
    "## Se déplacer dans le répertoire \"data\"\n",
    "\n",
    "cd DATA\n",
    "\n",
    "## Créer deux sous répertoires \"Raw_Data\" et \"Contigs\" \n",
    "\n",
    "mkdir Raw_Data"
   ]
  },
  {
   "cell_type": "code",
   "execution_count": null,
   "id": "782c8fcd-25ff-4bdf-b347-0e1123de65ac",
   "metadata": {},
   "outputs": [],
   "source": [
    "## Copier les données de séquençage du NAS dans ce répertoire \"DATA\"\n",
    "\n",
    "scp -r san:/projects/medium/CIBiG_MOryzae/fastq/*_R* /scratch/MOryzae/DATA/Raw_Data"
   ]
  },
  {
   "cell_type": "code",
   "execution_count": null,
   "id": "ffe9c7a8-674c-4b6e-bcc4-25ef11edbdf0",
   "metadata": {},
   "outputs": [],
   "source": [
    "## Utiliser cette commande afin de copier quelques séquences sur le compte GitHUB\n",
    "\n",
    "# Liste des fichiers sans suffixe\n",
    "files=(\"X\" \"Y\")\n",
    "\n",
    "# Utilisation d'une boucle pour envoyer chaque fichier\n",
    "for file in \"${files[@]}\"; do\n",
    "  # Envoi des fichiers *_R1* et *_R2* pour chaque fichier dans la liste\n",
    "  scp name@bioinfo-san.ird.fr:/projects/medium/CIBiG_MOryzae/fastq/${file}_R1*.fastq.gz /projects/medium/CIBiG_MOryzae/fastq/${file}_R2*.fastq.gz /home/name/Documents/Projet_CIBiG/Mentoring_Project/Data/\n",
    "done\n"
   ]
  },
  {
   "cell_type": "markdown",
   "id": "133a605f-f35d-4088-bd65-7ff6de602000",
   "metadata": {},
   "source": [
    "# __Practice II - Contrôle Qualité des reads__"
   ]
  },
  {
   "cell_type": "code",
   "execution_count": null,
   "id": "4558488c-ec74-4af7-b53c-5fdb1ec7715d",
   "metadata": {},
   "outputs": [],
   "source": [
    "## Créer un répertoire \"QC dans le répertoire de travail dans lequel vont être stockés les résultats de contrôle qualité\n",
    "\n",
    "mkdir -p /scratch/MOryzae/QC\n",
    "\n",
    "## Se déplacer dans le répertoire \"QC\"\n",
    "\n",
    "cd /scratch/MOryzae/QC"
   ]
  },
  {
   "cell_type": "markdown",
   "id": "9509d2d1-db7f-4141-9ad7-3baa565e0f37",
   "metadata": {},
   "source": [
    "## __II.1. Fastqc__"
   ]
  },
  {
   "cell_type": "code",
   "execution_count": null,
   "id": "44e6c3ad-e0ee-4828-aa4b-fa66076d3032",
   "metadata": {},
   "outputs": [],
   "source": [
    "## Créer le répertoire \"FastQC\" pour les outputs \n",
    "\n",
    "mkdir FastQC"
   ]
  },
  {
   "cell_type": "code",
   "execution_count": null,
   "id": "41d73b0f-a90e-4f3f-9f86-87c6b7b57c0f",
   "metadata": {},
   "outputs": [],
   "source": [
    "# Créer le répertoire SCRIPTS dans le répertoire de travail\n",
    "\n",
    "mkdir -p /scratch/MOryzae/SCRIPTS\n",
    "\n",
    "## Se déplacer dans le répertoire créé\n",
    "\n",
    "cd /scratch/MOryzae/SCRIPTS"
   ]
  },
  {
   "cell_type": "code",
   "execution_count": null,
   "id": "d0757a9c-d316-4330-a2a0-a9d62d859b15",
   "metadata": {},
   "outputs": [],
   "source": [
    "## Ouvrir l'éditeur de texte nano\n",
    "\n",
    "nano FastQC.sh"
   ]
  },
  {
   "cell_type": "code",
   "execution_count": null,
   "id": "feb4182f-7a95-4aeb-ae18-80e532ecd82e",
   "metadata": {},
   "outputs": [],
   "source": [
    "#!/bin/bash\n",
    "\n",
    "############# SLURM Configuration ##############\n",
    "\n",
    "### Define Job name\n",
    "#SBATCH --job-name=qc_fastq\n",
    "\n",
    "### Define partition to use\n",
    "#SBATCH -p normal\n",
    "\n",
    "### Define number of CPUs to use\n",
    "#SBATCH -c 2\n",
    "\n",
    "### Define array job (ajustez la plage selon le nombre de fichiers)\n",
    "#SBATCH --array=0-88%4  # 89 paires de fichiers (0 à 88)\n",
    "\n",
    "### Specify the node to run on\n",
    "#SBATCH --nodelist=node20  # Spécifie que le job doit être exécuté sur node20\n",
    "\n",
    "#################################################\n",
    "\n",
    "########### Execution Command ##################\n",
    "\n",
    "# Define working and output directory absolute path\n",
    "RAW_DATA_PATH=\"/scratch/MOryzae/DATA/Raw_Data\"\n",
    "QC_OUTPUT_PATH=\"/scratch/MOryzae/QC/FastQC\"\n",
    "\n",
    "# Load  \"FastQC\" module available\n",
    "module load FastQC/0.11.9\n",
    "\n",
    "# Create output directory\n",
    "\n",
    "mkdir -p \"$QC_OUTPUT_PATH\"\n",
    "\n",
    "\n",
    "# List of files without suffixe\n",
    "files=(\"AG0004\" \"BN0123\" \"CH0461\" \"G22\" \"IE1K\" \"IR0015\" \"ML33\" \"PH42\" \"TN0057\"\n",
    "       \"Arcadia\" \"BN0202\" \"CH0533\" \"GFSI1-7-2\" \"IN0017\" \"IR0083\" \"NG0012\" \"PL2-1\" \"TN0065\"\n",
    "       \"B2\" \"BN0252\" \"CH1103\" \"GG11\" \"IN0054\" \"IR0084\" \"NG0054\" \"SSFL02\" \"TN0090\"\n",
    "       \"B71\" \"Br7\" \"CH1164\" \"GN0001\" \"IN0059\" \"IR0088\" \"NP0058\" \"SSFL14-3\" \"TR0025\"\n",
    "       \"Bd8401\" \"Br80\" \"CHRF\" \"GY0040\" \"IN0114\" \"IR0095\" \"P28\" \"T25\" \"US0041\"\n",
    "       \"BdBar\" \"CD0065\" \"CHW\" \"HO\" \"IN0115\" \"IT0010\" \"P29\" \"TG0004\" \"US0064\"\n",
    "       \"BF0072\" \"CD0142\" \"CM0028\" \"IA1\" \"IN0116\" \"JP0091\" \"P3\" \"TG0032\" \"VT0027\"\n",
    "       \"Bm88324\" \"CH0043\" \"FR1067\" \"IB33\" \"INA168\" \"LpKY-97-1\" \"Pg1213-22\" \"TN0001\" \"VT0030\"\n",
    "       \"BN0019\" \"CH0072\" \"FR1069\" \"IB49\" \"IR00102\" \"ML0060\" \"PgKY4OV2-1\" \"TN0002\" \"Z2-1\"\n",
    "       \"BN0119\" \"CH0452\" \"G17\" \"IC17\" \"IR0013\" \"ML0062\" \"PgPA18C-02\" \"TN0050\")\n",
    "\n",
    "# Get file index \n",
    "index=$SLURM_ARRAY_TASK_ID\n",
    "\n",
    "# Get file name from index\n",
    "file1=\"${files[$index]}_R1.fastq.gz\"\n",
    "file2=\"${files[$index]}_R2.fastq.gz\"\n",
    "\n",
    "# Check if file existence in directory before run the command\n",
    "if [[ -f \"$RAW_DATA_PATH/$file1\" && -f \"$RAW_DATA_PATH/$file2\" ]]; then\n",
    "    echo \"Running FastQC on $file1 and $file2...\"\n",
    "    fastqc \"$RAW_DATA_PATH/$file1\" \"$RAW_DATA_PATH/$file2\" -o \"$QC_OUTPUT_PATH\"\n",
    "\n",
    "    # Check if command succes\n",
    "    if [[ $? -eq 0 ]]; then\n",
    "        echo \"FastQC completed successfully for $file1 and $file2.\"\n",
    "    else\n",
    "        echo \"Error: FastQC encountered an issue with $file1 and $file2.\"\n",
    "    fi\n",
    "else\n",
    "    echo \"Error: One or both files do not exist: $file1, $file2.\"\n",
    "    exit 1  # Quitter avec un code d'erreur\n",
    "fi\n"
   ]
  },
  {
   "cell_type": "code",
   "execution_count": null,
   "id": "4a440ba7-ece7-4833-92c9-a3ad870bf054",
   "metadata": {},
   "outputs": [],
   "source": [
    "## Lancer le script\n",
    "\n",
    "sbash FastQC.sh"
   ]
  },
  {
   "cell_type": "code",
   "execution_count": null,
   "id": "90930fb4-49d8-4a2c-baea-8eda5dda5e12",
   "metadata": {},
   "outputs": [],
   "source": [
    "## Vérifier le contenu\n",
    "\n",
    "ls -lh /scratch/MOryzae/QC/FastQC/"
   ]
  },
  {
   "cell_type": "raw",
   "id": "61b4bfa0-2f94-492d-aefb-6244eadb00d7",
   "metadata": {},
   "source": [
    "### Exploiter les fichiers html générés pour s'aasurer de la qualité des reads "
   ]
  },
  {
   "cell_type": "markdown",
   "id": "bc47209c-504a-428d-a498-ba055c8ebc9c",
   "metadata": {},
   "source": [
    "## __II.2. MULTIQC__"
   ]
  },
  {
   "cell_type": "code",
   "execution_count": null,
   "id": "40a36798-e01a-4d94-aa9d-52b280853ae5",
   "metadata": {},
   "outputs": [],
   "source": [
    "## Créer le répertoire \"MultiQC\" pour les outputs \n",
    "\n",
    "mkdir -p /scratch/MOryzae/QC/MultiQC"
   ]
  },
  {
   "cell_type": "code",
   "execution_count": null,
   "id": "daea0bdb-bef6-4588-a419-1b79d2f1ba40",
   "metadata": {},
   "outputs": [],
   "source": [
    "## Ouvrir l'éditeur de texte nano\n",
    "\n",
    "nano MultiQC.sh"
   ]
  },
  {
   "cell_type": "code",
   "execution_count": null,
   "id": "bcb97015-3f81-4ee6-a459-68743ddf43f4",
   "metadata": {},
   "outputs": [],
   "source": [
    "#!/bin/bash\n",
    "\n",
    "############# SLURM Configuration ##############\n",
    "\n",
    "### Define Job name\n",
    "#SBATCH --job-name=multiqc\n",
    "\n",
    "### Define partition to use\n",
    "#SBATCH -p normal\n",
    "\n",
    "### Define number of CPUs to use\n",
    "#SBATCH -c 8\n",
    "\n",
    "### Specify the node to run on\n",
    "#SBATCH --nodelist=node20  # Spécifie que le job doit être exécuté sur node20\n",
    "\n",
    "#################################################\n",
    "\n",
    "########### Execution Command ##################\n",
    "\n",
    "# Définir les chemins vers les répertoires de travail\n",
    "FASTQC_PATH=\"/scratch/MOryzae/QC/FastQC\"\n",
    "MULTIQC_OUTPUT_PATH=\"/scratch/MOryzae/QC/MultiQC\"\n",
    "\n",
    "# Charger le module MultiQC\n",
    "module load multiqc/1.9\n",
    "\n",
    "# Créer le répertoire de sortie\n",
    "\n",
    "mkdir -p \"$MULTIQC_OUTPUT_PATH\"\n",
    "\n",
    "\n",
    "# Lancer MultiQC sur les rapports de FastQC\n",
    "echo \"Running MultiQC on FastQC reports in $FASTQC_PATH...\"\n",
    "multiqc \"$FASTQC_PATH\" -o \"$MULTIQC_OUTPUT_PATH\"\n",
    "\n",
    "# Vérifier si MultiQC a réussi\n",
    "if [[ $? -eq 0 ]]; then\n",
    "    echo \"MultiQC completed successfully.\"\n",
    "else\n",
    "    echo \"Error: MultiQC encountered an issue.\"\n",
    "fi\n"
   ]
  },
  {
   "cell_type": "code",
   "execution_count": null,
   "id": "3b873d85-3bc3-4ddb-a203-804e16fa700e",
   "metadata": {},
   "outputs": [],
   "source": [
    "## Lancer le script##\n",
    "\n",
    "sbash MultiQC.sh"
   ]
  },
  {
   "cell_type": "raw",
   "id": "309a469e-d1cb-469d-943e-2e7323c6153f",
   "metadata": {},
   "source": [
    "### Exploiter le fichier unique html généré"
   ]
  },
  {
   "cell_type": "markdown",
   "id": "0ac0a384-6d86-4c68-a5c5-f3ec68fa58b6",
   "metadata": {},
   "source": [
    "## __II.3. TRIMMOMATIC__"
   ]
  },
  {
   "cell_type": "code",
   "execution_count": null,
   "id": "385101af-9069-4ff4-ac72-87773ec030d0",
   "metadata": {},
   "outputs": [],
   "source": [
    "## Créer un sous répertoire 'Trimming\" dans le répertoire DATA\n",
    "\n",
    "mkdir -p /scratch/MOryzae/DATA/Trimming"
   ]
  },
  {
   "cell_type": "code",
   "execution_count": null,
   "id": "9118a575-e7f8-4602-b1fe-8cc108b231b1",
   "metadata": {},
   "outputs": [],
   "source": [
    "## Ouvrir l'éditeur de texte nano\n",
    "\n",
    "nano Trimming.sh"
   ]
  },
  {
   "cell_type": "code",
   "execution_count": null,
   "id": "aaf58339-9c9b-4341-9a7e-f0c52c9bcfdf",
   "metadata": {},
   "outputs": [],
   "source": [
    "#!/bin/bash\n",
    "\n",
    "############# SLURM Configuration ##############\n",
    "\n",
    "### Define Job name\n",
    "#SBATCH --job-name=trimmomatic\n",
    "\n",
    "### Define partition to use\n",
    "#SBATCH -p normal\n",
    "\n",
    "### Define number of CPUs to use\n",
    "#SBATCH -c 8\n",
    "\n",
    "### Specify the node to run on\n",
    "#SBATCH --nodelist=node20  # Spécifie que le job doit être exécuté sur node20\n",
    "\n",
    "### Define array job (ajustez la plage selon le nombre de fichiers)\n",
    "#SBATCH --array=0-88%4  # 89 fichiers (index de 0 à 88)\n",
    "\n",
    "#################################################\n",
    "\n",
    "########### Execution Command ##################\n",
    "\n",
    "# Charger le module Trimmomatic\n",
    "module load Trimmomatic/0.39\n",
    "\n",
    "# Définir les chemins vers les répertoires de travail\n",
    "RAW_DATA_PATH=\"/scratch/MOryzae/DATA/Raw_Data\"\n",
    "TRIMMOMATIC_OUTPUT_PATH=\"/scratch/MOryzae/DATA/Trimming\"\n",
    "\n",
    "# Liste des fichiers sans suffixe\n",
    "files=(\"AG0004\" \"BN0123\" \"CH0461\" \"G22\" \"IE1K\" \"IR0015\" \"ML33\" \"PH42\" \"TN0057\"\n",
    "       \"Arcadia\" \"BN0202\" \"CH0533\" \"GFSI1-7-2\" \"IN0017\" \"IR0083\" \"NG0012\" \"PL2-1\" \"TN0065\"\n",
    "       \"B2\" \"BN0252\" \"CH1103\" \"GG11\" \"IN0054\" \"IR0084\" \"NG0054\" \"SSFL02\" \"TN0090\"\n",
    "       \"B71\" \"Br7\" \"CH1164\" \"GN0001\" \"IN0059\" \"IR0088\" \"NP0058\" \"SSFL14-3\" \"TR0025\"\n",
    "       \"Bd8401\" \"Br80\" \"CHRF\" \"GY0040\" \"IN0114\" \"IR0095\" \"P28\" \"T25\" \"US0041\"\n",
    "       \"BdBar\" \"CD0065\" \"CHW\" \"HO\" \"IN0115\" \"IT0010\" \"P29\" \"TG0004\" \"US0064\"\n",
    "       \"BF0072\" \"CD0142\" \"CM0028\" \"IA1\" \"IN0116\" \"JP0091\" \"P3\" \"TG0032\" \"VT0027\"\n",
    "       \"Bm88324\" \"CH0043\" \"FR1067\" \"IB33\" \"INA168\" \"LpKY-97-1\" \"Pg1213-22\" \"TN0001\" \"VT0030\"\n",
    "       \"BN0019\" \"CH0072\" \"FR1069\" \"IB49\" \"IR00102\" \"ML0060\" \"PgKY4OV2-1\" \"TN0002\" \"Z2-1\"\n",
    "       \"BN0119\" \"CH0452\" \"G17\" \"IC17\" \"IR0013\" \"ML0062\" \"PgPA18C-02\" \"TN0050\")\n",
    "\n",
    "# Récupérer l'index du job SLURM\n",
    "index=$SLURM_ARRAY_TASK_ID\n",
    "\n",
    "# Définir les noms de fichiers en fonction de l'index du tableau\n",
    "file1=\"${files[$index]}_R1.fastq.gz\"\n",
    "file2=\"${files[$index]}_R2.fastq.gz\"\n",
    "\n",
    "# Créer le répertoire de sortie s'il n'existe pas\n",
    "mkdir -p \"$TRIMMOMATIC_OUTPUT_PATH\"\n",
    "\n",
    "\n",
    "# Utiliser Trimmomatic pour le trimming des reads avec un score Phred >= 30\n",
    "echo \"Running Trimmomatic on $file1 and $file2...\"\n",
    "\n",
    "java -jar /usr/local/bioinfo/Trimmomatic-0.39/trimmomatic-0.39.jar -phred33 \\\n",
    "    \"$RAW_DATA_PATH/$file1\" \"$RAW_DATA_PATH/$file2\" \\\n",
    "    \"$TRIMMOMATIC_OUTPUT_PATH/${files[$index]}_R1_paired.fastq.gz\" \\\n",
    "    \"$TRIMMOMATIC_OUTPUT_PATH/${files[$index]}_R1_unpaired.fastq.gz\" \\\n",
    "    \"$TRIMMOMATIC_OUTPUT_PATH/${files[$index]}_R2_paired.fastq.gz\" \\\n",
    "    \"$TRIMMOMATIC_OUTPUT_PATH/${files[$index]}_R2_unpaired.fastq.gz\" \\\n",
    "    SLIDINGWINDOW:4:30 \\\n",
    "    LEADING:3 TRAILING:3 \\\n",
    "    MINLEN:36\n",
    "\n",
    "# Vérifier si Trimmomatic a réussi\n",
    "if [[ $? -eq 0 ]]; then\n",
    "    echo \"Trimmomatic completed successfully for $file1 and $file2.\"\n",
    "else\n",
    "    echo \"Erreur : Trimmomatic a rencontré un problème avec $file1 et $file2.\"\n",
    "    exit 1\n",
    "fi\n"
   ]
  },
  {
   "cell_type": "code",
   "execution_count": null,
   "id": "fcf7d809-7de3-4dd1-b34c-b3139fc5c82f",
   "metadata": {},
   "outputs": [],
   "source": [
    "## Lancer le script##\n",
    "\n",
    "sbash Trimming.sh"
   ]
  },
  {
   "cell_type": "raw",
   "id": "8071b295-084f-4c12-a4f1-2034cdb638a5",
   "metadata": {},
   "source": [
    "### relancer un fastqc sur les séquences trimmés"
   ]
  },
  {
   "cell_type": "markdown",
   "id": "ea605e8f-b4e2-4524-b06c-72730cc3ff6e",
   "metadata": {},
   "source": [
    "## __II.4. FASTQC_TRIM__"
   ]
  },
  {
   "cell_type": "code",
   "execution_count": null,
   "id": "339f0d50-950e-4ee5-ac71-4b3b2213e27e",
   "metadata": {},
   "outputs": [],
   "source": [
    "## Ouvrir l'éditeur de texte nano\n",
    "\n",
    "nano FastQC_Trim.sh"
   ]
  },
  {
   "cell_type": "code",
   "execution_count": null,
   "id": "3de7511c-42de-4dcb-bd84-82bf21270ab0",
   "metadata": {},
   "outputs": [],
   "source": [
    "#!/bin/bash\n",
    "\n",
    "############# SLURM Configuration ##############\n",
    "\n",
    "### Define Job name\n",
    "#SBATCH --job-name=qc_fastq\n",
    "\n",
    "### Define partition to use\n",
    "#SBATCH -p normal\n",
    "\n",
    "### Define number of CPUs to use\n",
    "#SBATCH -c 2\n",
    "\n",
    "### Define array job (ajustez la plage selon le nombre de fichiers)\n",
    "#SBATCH --array=0-88%4  # 89 paires de fichiers (0 à 88)\n",
    "\n",
    "### Specify the node to run on\n",
    "#SBATCH --nodelist=node20  # Spécifie que le job doit être exécuté sur node20\n",
    "\n",
    "#################################################\n",
    "\n",
    "########### Execution Command ##################\n",
    "\n",
    "# Define working and output directory absolute path\n",
    "TRIM_DATA_PATH=\"/scratch/MOryzae/DATA/Trimming\"\n",
    "QC_OUTPUT_PATH=\"/scratch/MOryzae/QC/FastQC_Trim\"\n",
    "\n",
    "# Load \"FastQC\" module available\n",
    "module load FastQC/0.11.9\n",
    "\n",
    "# Create output directory if it doesn't exist\n",
    "mkdir -p \"$QC_OUTPUT_PATH\"\n",
    "\n",
    "# List of files without suffix\n",
    "files=(\"AG0004\" \"BN0123\" \"CH0461\" \"G22\" \"IE1K\" \"IR0015\" \"ML33\" \"PH42\" \"TN0057\"\n",
    "       \"Arcadia\" \"BN0202\" \"CH0533\" \"GFSI1-7-2\" \"IN0017\" \"IR0083\" \"NG0012\" \"PL2-1\" \"TN0065\"\n",
    "       \"B2\" \"BN0252\" \"CH1103\" \"GG11\" \"IN0054\" \"IR0084\" \"NG0054\" \"SSFL02\" \"TN0090\"\n",
    "       \"B71\" \"Br7\" \"CH1164\" \"GN0001\" \"IN0059\" \"IR0088\" \"NP0058\" \"SSFL14-3\" \"TR0025\"\n",
    "       \"Bd8401\" \"Br80\" \"CHRF\" \"GY0040\" \"IN0114\" \"IR0095\" \"P28\" \"T25\" \"US0041\"\n",
    "       \"BdBar\" \"CD0065\" \"CHW\" \"HO\" \"IN0115\" \"IT0010\" \"P29\" \"TG0004\" \"US0064\"\n",
    "       \"BF0072\" \"CD0142\" \"CM0028\" \"IA1\" \"IN0116\" \"JP0091\" \"P3\" \"TG0032\" \"VT0027\"\n",
    "       \"Bm88324\" \"CH0043\" \"FR1067\" \"IB33\" \"INA168\" \"LpKY-97-1\" \"Pg1213-22\" \"TN0001\" \"VT0030\"\n",
    "       \"BN0019\" \"CH0072\" \"FR1069\" \"IB49\" \"IR00102\" \"ML0060\" \"PgKY4OV2-1\" \"TN0002\" \"Z2-1\"\n",
    "       \"BN0119\" \"CH0452\" \"G17\" \"IC17\" \"IR0013\" \"ML0062\" \"PgPA18C-02\" \"TN0050\")\n",
    "\n",
    "# Get file index\n",
    "index=$SLURM_ARRAY_TASK_ID\n",
    "\n",
    "# Get file name from index\n",
    "file1=\"${files[$index]}_R1_paired.fastq.gz\"\n",
    "file2=\"${files[$index]}_R2_paired.fastq.gz\"\n",
    "\n",
    "# Check if files exist before running FastQC\n",
    "if [[ -f \"$TRIM_DATA_PATH/$file1\" && -f \"$TRIM_DATA_PATH/$file2\" ]]; then\n",
    "    echo \"Running FastQC on $file1 and $file2...\"\n",
    "\n",
    "    # Run FastQC\n",
    "    fastqc \"$TRIM_DATA_PATH/$file1\" \"$TRIM_DATA_PATH/$file2\" -o \"$QC_OUTPUT_PATH\"\n",
    "\n",
    "    # Check if FastQC ran successfully\n",
    "    if [[ $? -eq 0 ]]; then\n",
    "        echo \"FastQC completed successfully for $file1 and $file2.\"\n",
    "    else\n",
    "        echo \"Error: FastQC encountered an issue with $file1 and $file2.\"\n",
    "        exit 1  # Exit with error code if FastQC fails\n",
    "    fi\n",
    "else\n",
    "    echo \"Error: One or both files do not exist: $file1, $file2.\"\n",
    "    exit 1  # Exit with error code if files are missing\n",
    "fi\n"
   ]
  },
  {
   "cell_type": "code",
   "execution_count": null,
   "id": "8bd0ed7f-89c7-4241-9cbd-aea6b13be9b7",
   "metadata": {},
   "outputs": [],
   "source": [
    "## Lancer le script##\n",
    "\n",
    "sbash FastQC_Trim.sh"
   ]
  },
  {
   "cell_type": "markdown",
   "id": "76447be6-2a4e-460c-8395-733bd87e9a31",
   "metadata": {},
   "source": [
    "## __II.5. MULTIQC_TRIM__"
   ]
  },
  {
   "cell_type": "code",
   "execution_count": null,
   "id": "7ed28992-6634-4797-9d63-afadce0c6bd0",
   "metadata": {},
   "outputs": [],
   "source": [
    "## Ouvrir l'éditeur de texte nano\n",
    "\n",
    "nano MultiQC_Trim.sh"
   ]
  },
  {
   "cell_type": "code",
   "execution_count": null,
   "id": "787ea0ed-71ed-4989-852b-7eb927c06a7c",
   "metadata": {},
   "outputs": [],
   "source": [
    "#!/bin/bash\n",
    "\n",
    "############# SLURM Configuration ##############\n",
    "\n",
    "### Define Job name\n",
    "#SBATCH --job-name=multiqc\n",
    "\n",
    "### Define partition to use\n",
    "#SBATCH -p normal\n",
    "\n",
    "### Define number of CPUs to use\n",
    "#SBATCH -c 8\n",
    "\n",
    "### Specify the node to run on\n",
    "#SBATCH --nodelist=node20  # Spécifie que le job doit être exécuté sur node20\n",
    "\n",
    "#################################################\n",
    "\n",
    "########### Execution Command ##################\n",
    "\n",
    "# Définir les chemins vers les répertoires de travail\n",
    "FASTQC_PATH=\"/scratch/MOryzae/QC/FastQC_Trim\"\n",
    "MULTIQC_OUTPUT_PATH=\"/scratch/MOryzae/QC/MultiQC_Trim\"\n",
    "\n",
    "# Charger le module MultiQC\n",
    "module load multiqc/1.9\n",
    "\n",
    "# Créer le répertoire de sortie s'il n'existe pas\n",
    "mkdir -p \"$MULTIQC_OUTPUT_PATH\"\n",
    "\n",
    "# Vérifier si des rapports FastQC existent dans le répertoire d'entrée\n",
    "if [ ! -d \"$FASTQC_PATH\" ] || [ -z \"$(ls -A $FASTQC_PATH)\" ]; then\n",
    "    echo \"Error: No FastQC reports found in $FASTQC_PATH.\"\n",
    "    exit 1  # Quitte avec un code d'erreur si aucun rapport n'est trouvé\n",
    "fi\n",
    "\n",
    "# Lancer MultiQC sur les rapports de FastQC\n",
    "echo \"Running MultiQC on FastQC reports in $FASTQC_PATH...\"\n",
    "multiqc \"$FASTQC_PATH\" -o \"$MULTIQC_OUTPUT_PATH\"\n",
    "\n",
    "# Vérifier si MultiQC a réussi\n",
    "if [[ $? -eq 0 ]]; then\n",
    "    echo \"MultiQC completed successfully.\"\n",
    "else\n",
    "    echo \"Error: MultiQC encountered an issue.\"\n",
    "    exit 1  # Quitter avec un code d'erreur si MultiQC échoue\n",
    "fi\n"
   ]
  },
  {
   "cell_type": "code",
   "execution_count": null,
   "id": "af0cfcf3-cbfe-4614-98b0-bcfe34eb6064",
   "metadata": {},
   "outputs": [],
   "source": [
    "### Récupérer tous les outputs générés dans le répertoire QC sur le NAS"
   ]
  },
  {
   "cell_type": "code",
   "execution_count": null,
   "id": "c59b06eb-4bc8-434c-874c-473b855a2357",
   "metadata": {},
   "outputs": [],
   "source": [
    "## Déplacer tout le répertoire QC vers le NAS\n",
    "\n",
    "scp -r /scratch/MOryzae/QC san:/projects/medium/CIBiG_MOryzae/\n",
    "\n",
    "rm -rf /scratch/MOryzae/QC"
   ]
  }
 ],
 "metadata": {
  "kernelspec": {
   "display_name": "Bash",
   "language": "bash",
   "name": "bash"
  },
  "language_info": {
   "codemirror_mode": "shell",
   "file_extension": ".sh",
   "mimetype": "text/x-sh",
   "name": "bash"
  }
 },
 "nbformat": 4,
 "nbformat_minor": 5
}
