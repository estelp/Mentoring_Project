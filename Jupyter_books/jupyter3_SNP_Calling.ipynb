{
 "cells": [
  {
   "cell_type": "markdown",
   "id": "fd3faf54-4921-4e7e-9859-1fd8d5133805",
   "metadata": {},
   "source": [
    "# __STRATEGIE D'ANALYSE BIOINFORMATIQUE - MENTORING PROJECT__\n",
    "\n",
    "__AGMIMONHAN Attolou Raoul, NAME Pakyendou Estel__\n",
    "\n",
    "__Tuteurs: Aurore COMTE & Sebastien RAVEL__\n",
    "\n",
    "Jupyter inspired by the model created by C. Tranchant (DIADE-IRD), J. Orjuela (DIADE-IRD), F. Sabot (DIADE-IRD) and A. Dereeper (PHIM-IRD)\n",
    "***\n",
    "\n",
    "# <span style=\"color: #006E7F\">Table of contents</span>\n",
    "<a class=\"anchor\" id=\"home\"></a>\n",
    "\n",
    "\n",
    "[PRACTICE IV - SNP calling](#SNP)\n",
    "   * [Indexation reference genome `samtools faidx`](#refindex)\n",
    "   * [Generer bcf file `bcftools mpileup`](#bcftools)\n",
    "   * [Calling `bcftools call`](#calling)\n",
    "   * [SNP statistiques `bcftools stats`](#stats)\n",
    "   * [SNP annotation](#annotation)\n",
    "   \n",
    "   \n",
    "\n",
    "***"
   ]
  },
  {
   "cell_type": "markdown",
   "id": "d72edcf4-4408-4359-bf5d-ff972f68a584",
   "metadata": {},
   "source": [
    "# __Practice IV - SNP calling__"
   ]
  },
  {
   "cell_type": "markdown",
   "id": "9ade4de0-f383-4b51-868f-eab487b3a275",
   "metadata": {},
   "source": [
    "## __IV.1. Indexation reference genome__"
   ]
  },
  {
   "cell_type": "code",
   "execution_count": null,
   "id": "3bfb5acf-c5f1-4b4c-8e72-c9d1788aa04b",
   "metadata": {},
   "outputs": [],
   "source": [
    "## Se deplacer dans le répertoire de la référennce\n",
    "\n",
    "cd /scratch/MOryzae/REF"
   ]
  },
  {
   "cell_type": "code",
   "execution_count": null,
   "id": "3bec1d87-c0e7-45c9-b839-337816fec576",
   "metadata": {},
   "outputs": [],
   "source": [
    "# Charger le module samtools \n",
    "\n",
    "module load samtools/1.18\n"
   ]
  },
  {
   "cell_type": "code",
   "execution_count": null,
   "id": "69092fcd-e673-44c9-8227-e9cb61d56c40",
   "metadata": {},
   "outputs": [],
   "source": [
    "## Indexation de la référence utilisant samtools faidx\n",
    "\n",
    "samtools faidx /scratch/MOryzae/REF/MOryzae_genomic.fna"
   ]
  },
  {
   "cell_type": "code",
   "execution_count": null,
   "id": "b5b45b1a-6405-4898-800e-21348bc4ad8e",
   "metadata": {},
   "outputs": [],
   "source": [
    "## Vérifier le contenu du répertoire et les fichiers générés\n",
    "\n",
    "ls -lh"
   ]
  },
  {
   "cell_type": "markdown",
   "id": "81971f6a-6d08-410a-adae-0557aaab3ba1",
   "metadata": {},
   "source": [
    "## __IV.2. RUN__"
   ]
  },
  {
   "cell_type": "code",
   "execution_count": null,
   "id": "540da069-5d04-48b0-921b-275e04268566",
   "metadata": {},
   "outputs": [],
   "source": [
    "## Se déplacer dans le répertoire créé\n",
    "\n",
    "cd /scratch/MOryzae/SCRIPTS"
   ]
  },
  {
   "cell_type": "code",
   "execution_count": null,
   "id": "af355e52-79cd-47a4-8a90-9a03663f18b5",
   "metadata": {},
   "outputs": [],
   "source": [
    "## Ouvrir l'éditeur de texte nano\n",
    "\n",
    "nano snp_calling_pipeline.sh"
   ]
  },
  {
   "cell_type": "code",
   "execution_count": null,
   "id": "d2d1dfa5-3eaa-46bd-9975-0ace5ed73ef1",
   "metadata": {},
   "outputs": [],
   "source": [
    "#!/bin/bash\n",
    "\n",
    "#SBATCH -c 16\n",
    "#SBATCH --nodelist=node20\n",
    "\n",
    "#################################################\n",
    "\n",
    "########### Execution Command ##################\n",
    "\n",
    "# Define file paths\n",
    "SORTED_PATH=\"/scratch/MOryzae/MAPPING/bam_mapped_sort\"\n",
    "BCF_PATH=\"/scratch/MOryzae/SNP/bcf_files/all_samples.bcf\"\n",
    "VCF_PATH=\"/scratch/MOryzae/SNP/vcf_files/all_samples.vcf\"\n",
    "REF_GENOME=\"/scratch/MOryzae/REF/MOryzae_genomic.fna\"\n",
    "SNP_STATS_DIR=\"/scratch/MOryzae/SNP/stats\"\n",
    "SNP_FILE=\"/scratch/MOryzae/SNP/vcf_files/all_samples_snp.vcf\"\n",
    "OUTPUT_VCF=\"${VCF_PATH}.gz\"\n",
    "OUTPUT_VCF2=\"${SNP_FILE}.gz\"\n",
    "ALLELE_FREQ_PATH=\"/scratch/MOryzae/SNP/allele_frequence\"\n",
    "\n",
    "# Load necessary modules\n",
    "module load samtools/1.18\n",
    "module load bcftools/1.18\n",
    "module load vcftools/0.1.16\n",
    "module load htslib/1.19\n",
    "\n",
    "# Create directories if necessary\n",
    "mkdir -p /scratch/MOryzae/SNP/bcf_files /scratch/MOryzae/SNP/vcf_files \"$SNP_STATS_DIR\" \"$ALLELE_FREQ_PATH\"\n",
    "\n",
    "# Step 1: Generate BCF file\n",
    "echo -e \"######################\\nGenerating BCF file\"\n",
    "bcftools mpileup --threads 16 -f \"$REF_GENOME\" -O b -o \"$BCF_PATH\" \"$SORTED_PATH\"/*.mappedpaired.sorted.bam || {\n",
    "    echo \"Error: Failed to generate BCF file\" >&2\n",
    "    exit 1\n",
    "}\n",
    "\n",
    "# Step 2: Variant calling\n",
    "echo -e \"######################\\nVariant calling\"\n",
    "bcftools call --threads 16 -v -c -o \"$VCF_PATH\" \"$BCF_PATH\" || {\n",
    "    echo \"Error: Variant calling failed\" >&2\n",
    "    exit 1\n",
    "}\n",
    "\n",
    "# Step 3: Generate SNP statistics\n",
    "echo -e \"######################\\nGenerating SNP statistics\"\n",
    "bcftools stats \"$VCF_PATH\" > \"$SNP_STATS_DIR/all_samples_SNP_statistics.txt\" || {\n",
    "    echo \"Error: Failed to generate SNP statistics\" >&2\n",
    "    exit 1\n",
    "}\n",
    "\n",
    "# Step 4: Filter to keep only SNPs\n",
    "echo -e \"######################\\nFiltering SNPs\"\n",
    "bcftools view -v snps \"$VCF_PATH\" -o \"$SNP_FILE\" || {\n",
    "    echo \"Error: Filtering SNPs failed\" >&2\n",
    "    exit 1\n",
    "}\n",
    "\n",
    "# Step 5: Compress and index the VCF file\n",
    "echo -e \"######################\\nCompressing and indexing VCF files\"\n",
    "bgzip -c \"$VCF_PATH\" > \"$OUTPUT_VCF\" || {\n",
    "    echo \"Error: Compression of VCF file failed\" >&2\n",
    "    exit 1\n",
    "}\n",
    "bgzip -c \"$SNP_FILE\" > \"$OUTPUT_VCF2\" || {\n",
    "    echo \"Error: Compression of SNP file failed\" >&2\n",
    "    exit 1\n",
    "}\n",
    "bcftools index \"$OUTPUT_VCF\" || {\n",
    "    echo \"Error: Indexing VCF file failed\" >&2\n",
    "    exit 1\n",
    "}\n",
    "bcftools index \"$OUTPUT_VCF2\" || {\n",
    "    echo \"Error: Indexing SNP file failed\" >&2\n",
    "    exit 1\n",
    "}\n",
    "\n",
    "# Step 6: Calculate allele frequencies\n",
    "echo -e \"######################\\nCalculating allele frequencies\"\n",
    "vcftools --gzvcf \"$OUTPUT_VCF\" --freq --out \"${ALLELE_FREQ_PATH}/AF\" --max-alleles 2 || {\n",
    "    echo \"Error: Calculating allele frequencies failed for $OUTPUT_VCF\" >&2\n",
    "}\n",
    "vcftools --gzvcf \"$OUTPUT_VCF\" --freq2 --out \"${ALLELE_FREQ_PATH}/AF_2\" --max-alleles 2 || {\n",
    "    echo \"Error: Calculating allele frequencies failed for $OUTPUT_VCF\" >&2\n",
    "}\n",
    "\n",
    "echo \"BCF and VCF files generated successfully.\"\n"
   ]
  },
  {
   "cell_type": "code",
   "execution_count": null,
   "id": "2e49ef60-7d6b-460f-9488-7b4df8a3c1e3",
   "metadata": {},
   "outputs": [],
   "source": [
    "## Lancer le script\n",
    "\n",
    "sbash snp_calling_pipeline.sh"
   ]
  },
  {
   "cell_type": "markdown",
   "id": "024decf8-27fd-46ab-b3f6-a6e4a652f343",
   "metadata": {},
   "source": [
    "### Correction de l'identité de chaque isolat dans les fichiers vcf"
   ]
  },
  {
   "cell_type": "code",
   "execution_count": null,
   "id": "f917c784-c490-43eb-8334-7cda5e994b9e",
   "metadata": {},
   "outputs": [],
   "source": [
    "## Se déplacer dans le répertoire SNP\n",
    "\n",
    "cd /scratch/MOryzae/SNP/vcf_files"
   ]
  },
  {
   "cell_type": "code",
   "execution_count": null,
   "id": "dee2334f-ef04-42a7-b003-bde80b51dba5",
   "metadata": {},
   "outputs": [],
   "source": [
    "## Charger le module bcftools\n",
    "\n",
    "module load bcftools/1.18"
   ]
  },
  {
   "cell_type": "code",
   "execution_count": null,
   "id": "988f52b5-d356-4b48-8ac2-33a706447fd0",
   "metadata": {},
   "outputs": [],
   "source": [
    "## Utilisez bcftools pour lister les noms des échantillons actuels :\n",
    "\n",
    "bcftools query -l all_samples.vcf.gz > samples.txt\n",
    "\n",
    "bcftools query -l all_samples_snp.vcf.gz> snp_samples.txt\n"
   ]
  },
  {
   "cell_type": "markdown",
   "id": "7c78fe3c-390a-4e23-a54e-7fab667016f2",
   "metadata": {},
   "source": [
    "Cela créera un fichier samples.txt contenant les noms des échantillons actuels (tels que ceux avec des chemins et suffixes)."
   ]
  },
  {
   "cell_type": "code",
   "execution_count": null,
   "id": "db3a2e7d-c049-4a18-ac85-d52154f63a27",
   "metadata": {},
   "outputs": [],
   "source": [
    "## Modifiez le fichier samples.txt ou créez un nouveau fichier, par exemple new_samples.txt, \n",
    "## en mappant les anciens noms aux nouveaux noms simplifiés.\n",
    "\n",
    "awk -F'/' '{print $0 \"\\t\" $NF}' samples.txt | sed 's/.mappedpaired.sorted.bam//g' > new_samples.txt\n",
    "\n",
    "awk -F'/' '{print $0 \"\\t\" $NF}' snp_samples.txt | sed 's/.mappedpaired.sorted.bam//g' > new_snp_samples.txt\n"
   ]
  },
  {
   "cell_type": "code",
   "execution_count": null,
   "id": "86da006f-bed1-48f8-81de-de5183c6642d",
   "metadata": {},
   "outputs": [],
   "source": [
    "## Récuper rien que les noms des isolats dans un nouveau fichier texte\n",
    "\n",
    "awk -F'/' '{print $0 \"\\t\" $NF}' new_samples.txt | cut -f3 > new2_samples.txt\n",
    "\n",
    "awk -F'/' '{print $0 \"\\t\" $NF}' new_snp_samples.txt | cut -f3 > new2_snp_samples.txt\n"
   ]
  },
  {
   "cell_type": "code",
   "execution_count": null,
   "id": "7a86f8b8-62c0-4b9b-b4df-215544ee43b7",
   "metadata": {},
   "outputs": [],
   "source": [
    "### Utilisez bcftools reheader pour appliquer les modifications :\n",
    "\n",
    "bcftools reheader -s new2_samples.txt -o all_samples_correct.vcf.gz all_samples.vcf.gz\n",
    "\n",
    "bcftools reheader -s new2_snp_samples.txt -o all_samples_snp_correct.vcf.gz all_samples_snp.vcf.gz\n"
   ]
  },
  {
   "cell_type": "markdown",
   "id": "5bfcea78-e125-468b-8d29-a579da29a99f",
   "metadata": {},
   "source": [
    "Vérifier les modifications"
   ]
  },
  {
   "cell_type": "code",
   "execution_count": null,
   "id": "3fb7d4fd-c576-4179-8bc7-b9b6f767ac1f",
   "metadata": {},
   "outputs": [],
   "source": [
    "## Pour vérifier que les nouveaux noms ont été appliqués correctement :\n",
    "\n",
    "bcftools query -l all_samples_correct.vcf.gz\n",
    "\n",
    "bcftools query -l all_samples_snp_correct.vcf.gz\n"
   ]
  },
  {
   "cell_type": "code",
   "execution_count": null,
   "id": "5075470b-22fa-4a07-94b3-a56d2f8e51c1",
   "metadata": {},
   "outputs": [],
   "source": [
    "## Reindexer les nouveaux fichiers vcf.gz\n",
    "\n",
    "bcftools index all_samples_correct.vcf.gz\n",
    "\n",
    "bcftools index all_samples_snp_correct.vcf.gz"
   ]
  },
  {
   "cell_type": "markdown",
   "id": "5083b5c1-5940-4467-89a2-227a83944aaf",
   "metadata": {},
   "source": [
    "### Récupérer tous les outputs générés dans le répertoire SNP sur le NAS"
   ]
  },
  {
   "cell_type": "code",
   "execution_count": null,
   "id": "aeeea843-c237-4b4c-a395-63079e7eaa8a",
   "metadata": {},
   "outputs": [],
   "source": [
    "## Déplacer tout le répertoire MAPPING vers le NAS\n",
    "\n",
    "scp -r /scratch/MOryzae/SNP san:/projects/medium/CIBiG_MOryzae/"
   ]
  }
 ],
 "metadata": {
  "kernelspec": {
   "display_name": "Bash",
   "language": "bash",
   "name": "bash"
  },
  "language_info": {
   "codemirror_mode": "shell",
   "file_extension": ".sh",
   "mimetype": "text/x-sh",
   "name": "bash"
  }
 },
 "nbformat": 4,
 "nbformat_minor": 5
}
