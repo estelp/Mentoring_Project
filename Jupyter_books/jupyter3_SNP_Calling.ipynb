{
 "cells": [
  {
   "cell_type": "markdown",
   "id": "fd3faf54-4921-4e7e-9859-1fd8d5133805",
   "metadata": {},
   "source": [
    "# __STRATEGIE D'ANALYSE BIOINFORMATIQUE - MENTORING PROJECT__\n",
    "\n",
    "__AGMIMONHAN Attolou Raoul, NAME Pakyendou Estel__\n",
    "\n",
    "__Tuteurs: Aurore COMTE & Sebastien RAVEL__\n",
    "\n",
    "Jupyter inspired by the model created by C. Tranchant (DIADE-IRD), J. Orjuela (DIADE-IRD), F. Sabot (DIADE-IRD) and A. Dereeper (PHIM-IRD)\n",
    "***\n",
    "\n",
    "# <span style=\"color: #006E7F\">Table of contents</span>\n",
    "<a class=\"anchor\" id=\"home\"></a>\n",
    "\n",
    "\n",
    "[PRACTICE IV - SNP calling](#SNP)\n",
    "   * [Indexation reference genome `samtools faidx`](#refindex)\n",
    "   * [Generer bcf file `bcftools mpileup`](#bcftools)\n",
    "   * [Calling `bcftools call`](#calling)\n",
    "   * [SNP statistiques `bcftools stats`](#stats)\n",
    "   * [SNP annotation](#annotation)\n",
    "   \n",
    "   \n",
    "\n",
    "***"
   ]
  },
  {
   "cell_type": "markdown",
   "id": "d72edcf4-4408-4359-bf5d-ff972f68a584",
   "metadata": {},
   "source": [
    "# __Practice IV - SNP calling__"
   ]
  },
  {
   "cell_type": "markdown",
   "id": "9ade4de0-f383-4b51-868f-eab487b3a275",
   "metadata": {},
   "source": [
    "## __IV.1. Indexation reference genome__"
   ]
  },
  {
   "cell_type": "code",
   "execution_count": null,
   "id": "3bfb5acf-c5f1-4b4c-8e72-c9d1788aa04b",
   "metadata": {},
   "outputs": [],
   "source": [
    "## Se deplacer dans le répertoire de la référennce\n",
    "\n",
    "cd /scratch/MOryzae/REF"
   ]
  },
  {
   "cell_type": "code",
   "execution_count": null,
   "id": "3bec1d87-c0e7-45c9-b839-337816fec576",
   "metadata": {},
   "outputs": [],
   "source": [
    "# Charger le module samtools \n",
    "\n",
    "module load samtools/1.18\n"
   ]
  },
  {
   "cell_type": "code",
   "execution_count": null,
   "id": "69092fcd-e673-44c9-8227-e9cb61d56c40",
   "metadata": {},
   "outputs": [],
   "source": [
    "## Indexation de la référence utilisant samtools faidx\n",
    "\n",
    "samtools faidx /scratch/MOryzae/REF/MOryzae_genomic.fna"
   ]
  },
  {
   "cell_type": "code",
   "execution_count": null,
   "id": "b5b45b1a-6405-4898-800e-21348bc4ad8e",
   "metadata": {},
   "outputs": [],
   "source": [
    "## Vérifier le contenu du répertoire et les fichiers générés\n",
    "\n",
    "ls -lh"
   ]
  },
  {
   "cell_type": "markdown",
   "id": "81971f6a-6d08-410a-adae-0557aaab3ba1",
   "metadata": {},
   "source": [
    "## __IV.2. RUN__"
   ]
  },
  {
   "cell_type": "code",
   "execution_count": null,
   "id": "540da069-5d04-48b0-921b-275e04268566",
   "metadata": {},
   "outputs": [],
   "source": [
    "## Se déplacer dans le répertoire créé\n",
    "\n",
    "cd /scratch/MOryzae/SCRIPTS"
   ]
  },
  {
   "cell_type": "code",
   "execution_count": null,
   "id": "af355e52-79cd-47a4-8a90-9a03663f18b5",
   "metadata": {},
   "outputs": [],
   "source": [
    "## Ouvrir l'éditeur de texte nano\n",
    "\n",
    "nano snp_calling_pipeline.sh"
   ]
  },
  {
   "cell_type": "code",
   "execution_count": null,
   "id": "d2d1dfa5-3eaa-46bd-9975-0ace5ed73ef1",
   "metadata": {},
   "outputs": [],
   "source": [
    "#!/bin/bash\n",
    "\n",
    "############# SLURM Configuration ##############\n",
    "\n",
    "### Define Job name\n",
    "#SBATCH --job-name=snp_calling\n",
    "\n",
    "### Define partition to use\n",
    "#SBATCH -p normal\n",
    "\n",
    "### Define number of CPUs to use\n",
    "#SBATCH -c 16\n",
    "\n",
    "### Specify the node to run on\n",
    "#SBATCH --nodelist=node20  # Spécifie que le job doit être exécuté sur node20\n",
    "\n",
    "#################################################\n",
    "\n",
    "########### Execution Command ##################\n",
    "\n",
    "# Define file paths\n",
    "SORTED_PATH=\"/scratch/MOryzae/MAPPING/bam_mapped_sort\"\n",
    "BCF_PATH=\"/scratch/MOryzae/SNP/bcf_files/all_samples.bcf\"\n",
    "VCF_PATH=\"/scratch/MOryzae/SNP/vcf_files/all_samples.vcf\"\n",
    "REF_GENOME=\"/scratch/MOryzae/REF/MOryzae_genomic.fna\"\n",
    "SNP_STATS_DIR=\"/scratch/MOryzae/SNP/stats\"\n",
    "OUTPUT_VCF=\"${VCF_PATH}.gz\"\n",
    "SNP_FILE=\"/scratch/MOryzae/SNP/vcf_files/all_samples_snp.vcf\"\n",
    "OUTPUT_VCF2=\"${SNP_FILE}.gz\"\n",
    "ALLELE_FREQ_PATH=\"/scratch/MOryzae/SNP/allele_frequence\"\n",
    "\n",
    "# Load necessary modules\n",
    "module load samtools/1.18\n",
    "module load bcftools/1.18\n",
    "module load vcftools/0.1.16\n",
    "\n",
    "# Create directories if necessary\n",
    "mkdir -p /scratch/MOryzae/SNP/bcf_files /scratch/MOryzae/SNP/vcf_files \"$SNP_STATS_DIR\" \"$ALLELE_FREQ_PATH\"\n",
    "\n",
    "\n",
    "# Use bcftools for mpileup and variant calling\n",
    "echo -e \"######################\\nGenerating BCF file\"\n",
    "bcftools mpileup --threads 16 -f \"$REF_GENOME\" -O b -o \"$BCF_PATH\" \"$SORTED_PATH\"/*.mappedpaired.sorted.bam\n",
    "\n",
    "echo -e \"######################\\nVariant calling\"\n",
    "bcftools call --threads 16 -v -c -o \"$VCF_PATH\" \"$BCF_PATH\"\n",
    "\n",
    "echo -e \"######################\\nGenerating SNP statistics\"\n",
    "bcftools stats \"$VCF_PATH\" > \"$SNP_STATS_DIR/all_samples_SNP_statistics.txt\"\n",
    "# Filter to keep only SNPs\n",
    "echo -e \"######################\\nFiltering SNPs\"\n",
    "bcftools view -v snps \"$VCF_PATH\" -o \"$SNP_FILE\"\n",
    "\n",
    "# Compress and index the VCF file\n",
    "echo -e \"######################\\nCompressing and indexing VCF file\"\n",
    "bgzip -c \"$SNP_FILE\" > \"$OUTPUT_VCF2\"\n",
    "bcftools index \"$OUTPUT_VCF\"\n",
    "bcftools index \"$OUTPUT_VCF2\"\n",
    "\n",
    "# Calculate allele frequencies\n",
    "echo -e \"######################\\nCalculating allele frequencies\"\n",
    "vcftools --gzvcf \"$OUTPUT_VCF\" --freq --out \"${ALLELE_FREQ_PATH}/AF\" --max-alleles 2\n",
    "vcftools --gzvcf \"$OUTPUT_VCF\" --freq2 --out \"${ALLELE_FREQ_PATH}/AF2\" --max-alleles 2\n",
    "\n",
    "vcftools --gzvcf \"$OUTPUT_VCF2\" --freq --out \"${ALLELE_FREQ_PATH}/AF_2\" --max-alleles 2\n",
    "vcftools --gzvcf \"$OUTPUT_VCF2\" --freq2 --out \"${ALLELE_FREQ_PATH}/AF2_2\" --max-alleles 2\n",
    "\n",
    "echo \"BCF and VCF files generated successfully.\"\n"
   ]
  },
  {
   "cell_type": "code",
   "execution_count": null,
   "id": "2e49ef60-7d6b-460f-9488-7b4df8a3c1e3",
   "metadata": {},
   "outputs": [],
   "source": [
    "## Lancer le script\n",
    "\n",
    "sbash snp_calling_pipeline.sh"
   ]
  },
  {
   "cell_type": "code",
   "execution_count": null,
   "id": "4581da5b-4c7c-452b-bdc6-014658cd641c",
   "metadata": {},
   "outputs": [],
   "source": [
    "### Récupérer tous les outputs générés dans le répertoire SNP sur le NAS"
   ]
  },
  {
   "cell_type": "code",
   "execution_count": null,
   "id": "aeeea843-c237-4b4c-a395-63079e7eaa8a",
   "metadata": {},
   "outputs": [],
   "source": [
    "## Déplacer tout le répertoire MAPPING vers le NAS\n",
    "\n",
    "scp -r /scratch/MOryzae/SNP san:/projects/medium/CIBiG_MOryzae/"
   ]
  }
 ],
 "metadata": {
  "kernelspec": {
   "display_name": "Bash",
   "language": "bash",
   "name": "bash"
  },
  "language_info": {
   "codemirror_mode": "shell",
   "file_extension": ".sh",
   "mimetype": "text/x-sh",
   "name": "bash"
  }
 },
 "nbformat": 4,
 "nbformat_minor": 5
}
