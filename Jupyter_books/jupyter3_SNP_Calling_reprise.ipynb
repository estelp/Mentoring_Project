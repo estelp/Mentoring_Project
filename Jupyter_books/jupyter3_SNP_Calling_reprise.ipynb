{
 "cells": [
  {
   "cell_type": "markdown",
   "id": "fd3faf54-4921-4e7e-9859-1fd8d5133805",
   "metadata": {},
   "source": [
    "# __STRATEGIE D'ANALYSE BIOINFORMATIQUE - MENTORING PROJECT__\n",
    "\n",
    "__AGMIMONHAN Attolou Raoul, NAME Pakyendou Estel__\n",
    "\n",
    "__Tuteurs: Aurore COMTE & Sebastien RAVEL__\n",
    "\n",
    "Jupyter inspired by the model created by C. Tranchant (DIADE-IRD), J. Orjuela (DIADE-IRD), F. Sabot (DIADE-IRD) and A. Dereeper (PHIM-IRD)\n",
    "***\n",
    "\n",
    "# <span style=\"color: #006E7F\">Table of contents</span>\n",
    "<a class=\"anchor\" id=\"home\"></a>\n",
    "\n",
    "\n",
    "[PRACTICE IV - SNP calling](#SNP)\n",
    "   * [Indexation reference genome `samtools faidx`](#refindex)\n",
    "   * [Generer bcf file `bcftools mpileup`](#bcftools)\n",
    "   * [Calling `bcftools call`](#calling)\n",
    "   * [SNP statistiques `bcftools stats`](#stats)\n",
    "   * [SNP annotation](#annotation)\n",
    "   \n",
    "   \n",
    "\n",
    "***"
   ]
  },
  {
   "cell_type": "markdown",
   "id": "d72edcf4-4408-4359-bf5d-ff972f68a584",
   "metadata": {},
   "source": [
    "# __Practice IV - SNP calling__"
   ]
  },
  {
   "cell_type": "markdown",
   "id": "9ade4de0-f383-4b51-868f-eab487b3a275",
   "metadata": {},
   "source": [
    "## __IV.1. Indexation reference genome__"
   ]
  },
  {
   "cell_type": "code",
   "execution_count": null,
   "id": "3bfb5acf-c5f1-4b4c-8e72-c9d1788aa04b",
   "metadata": {},
   "outputs": [],
   "source": [
    "## Se deplacer dans le répertoire de la référennce\n",
    "\n",
    "cd /scratch/MOryzae/REF"
   ]
  },
  {
   "cell_type": "code",
   "execution_count": null,
   "id": "3bec1d87-c0e7-45c9-b839-337816fec576",
   "metadata": {},
   "outputs": [],
   "source": [
    "# Charger le module samtools \n",
    "\n",
    "module load samtools/1.18\n"
   ]
  },
  {
   "cell_type": "code",
   "execution_count": null,
   "id": "69092fcd-e673-44c9-8227-e9cb61d56c40",
   "metadata": {},
   "outputs": [],
   "source": [
    "## Indexation de la référence utilisant samtools faidx\n",
    "\n",
    "samtools faidx /scratch/MOryzae/REF/MOryzae_genomic.fna"
   ]
  },
  {
   "cell_type": "code",
   "execution_count": null,
   "id": "b5b45b1a-6405-4898-800e-21348bc4ad8e",
   "metadata": {},
   "outputs": [],
   "source": [
    "## Vérifier le contenu du répertoire et les fichiers générés\n",
    "\n",
    "ls -lh"
   ]
  },
  {
   "cell_type": "markdown",
   "id": "81971f6a-6d08-410a-adae-0557aaab3ba1",
   "metadata": {},
   "source": [
    "## __IV.2. RUN__"
   ]
  },
  {
   "cell_type": "code",
   "execution_count": null,
   "id": "540da069-5d04-48b0-921b-275e04268566",
   "metadata": {},
   "outputs": [],
   "source": [
    "## Se déplacer dans le répertoire créé\n",
    "\n",
    "cd /scratch/MOryzae/SCRIPTS"
   ]
  },
  {
   "cell_type": "code",
   "execution_count": null,
   "id": "af355e52-79cd-47a4-8a90-9a03663f18b5",
   "metadata": {},
   "outputs": [],
   "source": [
    "## Ouvrir l'éditeur de texte nano\n",
    "\n",
    "nano snp_calling_pipeline.sh"
   ]
  },
  {
   "cell_type": "code",
   "execution_count": null,
   "id": "d2d1dfa5-3eaa-46bd-9975-0ace5ed73ef1",
   "metadata": {},
   "outputs": [],
   "source": [
    "#!/bin/bash\n",
    "\n",
    "############ SLURM Configuration ##############\n",
    "\n",
    "### Define Job name\n",
    "#SBATCH --job-name=snp2_calling\n",
    "\n",
    "### Define partition to use\n",
    "#SBATCH -p normal\n",
    "\n",
    "### Define number of CPUs to use\n",
    "#SBATCH -c 16\n",
    "\n",
    "### Specify the node to run on\n",
    "#SBATCH --nodelist=node20  # Run the job on node20\n",
    "\n",
    "#################################################\n",
    "\n",
    "########### Execution Commands ###################\n",
    "\n",
    "# Variables\n",
    "SORTED_PATH=\"/scratch/MOryzae/MAPPING/bam_mapped_sort\"\n",
    "VCF_OUTPUT=\"/scratch/MOryzae/SNP/vcf_files/all_samples.vcf.gz\"\n",
    "SNP_OUTPUT=\"/scratch/MOryzae/SNP/vcf_files/snp.vcf.gz\"\n",
    "REF_GENOME=\"/scratch/MOryzae/REF/MOryzae_genomic.fna\"\n",
    "SNP_STATS_DIR=\"/scratch/MOryzae/SNP/stats\"\n",
    "\n",
    "# Load necessary modules\n",
    "module load samtools/1.18\n",
    "module load bcftools/1.18\n",
    "\n",
    "# Create necessary directories\n",
    "mkdir -p /scratch/MOryzae/SNP/vcf_files \"$SNP_STATS_DIR\"\n",
    "\n",
    "# Step 1: Generate VCF file, compress, and index\n",
    "echo -e \"######################\\nGenerating compressed VCF file\"\n",
    "bcftools mpileup -Ou --threads 16 -f \"$REF_GENOME\" \"$SORTED_PATH\"/*.mappedpaired.sorted.bam | \\\n",
    "  bcftools call -mv -Oz -o \"$VCF_OUTPUT\" || {\n",
    "    echo \"Error: VCF generation and compression failed\" >&2\n",
    "    exit 1\n",
    "}\n",
    "\n",
    "# Step 2: Index the compressed VCF file\n",
    "echo -e \"######################\\nIndexing compressed VCF file\"\n",
    "bcftools index \"$VCF_OUTPUT\" || {\n",
    "    echo \"Error: VCF file indexing failed\" >&2\n",
    "    exit 1\n",
    "}\n",
    "\n",
    "# Step 3: Filter to retain only SNPs\n",
    "echo -e \"######################\\nFiltering to retain only SNPs\"\n",
    "bcftools view -v snps -Oz -o \"$SNP_OUTPUT\" \"$VCF_OUTPUT\" || {\n",
    "    echo \"Error: SNP filtering failed\" >&2\n",
    "    exit 1\n",
    "}\n",
    "\n",
    "# Step 4: Index the SNP VCF file\n",
    "echo -e \"######################\\nIndexing SNP VCF file\"\n",
    "bcftools index \"$SNP_OUTPUT\" || {\n",
    "    echo \"Error: SNP VCF file indexing failed\" >&2\n",
    "    exit 1\n",
    "}\n",
    "\n",
    "# Step 5: Generate SNP statistics\n",
    "echo -e \"######################\\nGenerating SNP statistics\"\n",
    "bcftools stats \"$SNP_OUTPUT\" > \"$SNP_STATS_DIR/all_samples_SNP_statistics.txt\" || {\n",
    "    echo \"Error: Failed to generate SNP statistics\" >&2\n",
    "    exit 1\n",
    "}\n",
    "\n",
    "echo \"Compressed VCF file and SNP-specific VCF file generated and indexed successfully.\"\n"
   ]
  },
  {
   "cell_type": "code",
   "execution_count": null,
   "id": "2e49ef60-7d6b-460f-9488-7b4df8a3c1e3",
   "metadata": {},
   "outputs": [],
   "source": [
    "## Lancer le script\n",
    "\n",
    "sbash snp_calling_pipeline.sh"
   ]
  },
  {
   "cell_type": "markdown",
   "id": "024decf8-27fd-46ab-b3f6-a6e4a652f343",
   "metadata": {},
   "source": [
    "### Correction de l'identité de chaque isolat dans les fichiers vcf"
   ]
  },
  {
   "cell_type": "code",
   "execution_count": null,
   "id": "f917c784-c490-43eb-8334-7cda5e994b9e",
   "metadata": {},
   "outputs": [],
   "source": [
    "## Se déplacer dans le répertoire SNP\n",
    "\n",
    "cd /scratch/MOryzae/SNP/vcf_files"
   ]
  },
  {
   "cell_type": "code",
   "execution_count": null,
   "id": "dee2334f-ef04-42a7-b003-bde80b51dba5",
   "metadata": {},
   "outputs": [],
   "source": [
    "## Charger le module bcftools\n",
    "\n",
    "module load bcftools/1.18"
   ]
  },
  {
   "cell_type": "code",
   "execution_count": null,
   "id": "988f52b5-d356-4b48-8ac2-33a706447fd0",
   "metadata": {},
   "outputs": [],
   "source": [
    "## Utilisez bcftools pour lister les noms des échantillons actuels :\n",
    "\n",
    "bcftools query -l snp.vcf.gz> snp_samples.txt"
   ]
  },
  {
   "cell_type": "markdown",
   "id": "7c78fe3c-390a-4e23-a54e-7fab667016f2",
   "metadata": {},
   "source": [
    "Cela créera un fichier samples.txt contenant les noms des échantillons actuels (tels que ceux avec des chemins et suffixes)."
   ]
  },
  {
   "cell_type": "code",
   "execution_count": null,
   "id": "db3a2e7d-c049-4a18-ac85-d52154f63a27",
   "metadata": {},
   "outputs": [],
   "source": [
    "## Modifiez le fichier samples.txt ou créez un nouveau fichier, par exemple new_samples.txt, \n",
    "## en mappant les anciens noms aux nouveaux noms simplifiés.\n",
    "\n",
    "awk -F'/' '{print $0 \"\\t\" $NF}' snp_samples.txt | sed 's/.mappedpaired.sorted.bam//g' > new_snp_samples.txt"
   ]
  },
  {
   "cell_type": "code",
   "execution_count": null,
   "id": "86da006f-bed1-48f8-81de-de5183c6642d",
   "metadata": {},
   "outputs": [],
   "source": [
    "## Récuper rien que les noms des isolats dans un nouveau fichier texte\n",
    "\n",
    "\n",
    "awk -F'/' '{print $0 \"\\t\" $NF}' new_snp_samples.txt | cut -f3 > new2_snp_samples.txt"
   ]
  },
  {
   "cell_type": "code",
   "execution_count": null,
   "id": "7a86f8b8-62c0-4b9b-b4df-215544ee43b7",
   "metadata": {},
   "outputs": [],
   "source": [
    "### Utilisez bcftools reheader pour appliquer les modifications :\n",
    "\n",
    "bcftools reheader -s new2_snp_samples.txt -o snp_correct.vcf.gz snp.vcf.gz"
   ]
  },
  {
   "cell_type": "markdown",
   "id": "5bfcea78-e125-468b-8d29-a579da29a99f",
   "metadata": {},
   "source": [
    "Vérifier les modifications"
   ]
  },
  {
   "cell_type": "code",
   "execution_count": null,
   "id": "5075470b-22fa-4a07-94b3-a56d2f8e51c1",
   "metadata": {},
   "outputs": [],
   "source": [
    "## Reindexer les nouveaux fichiers vcf.gz\n",
    "\n",
    "bcftools index snp_correct.vcf.gz"
   ]
  },
  {
   "cell_type": "markdown",
   "id": "5083b5c1-5940-4467-89a2-227a83944aaf",
   "metadata": {},
   "source": [
    "### Récupérer tous les outputs générés dans le répertoire SNP sur le NAS"
   ]
  },
  {
   "cell_type": "code",
   "execution_count": null,
   "id": "aeeea843-c237-4b4c-a395-63079e7eaa8a",
   "metadata": {},
   "outputs": [],
   "source": [
    "## Déplacer tout le répertoire MAPPING vers le NAS\n",
    "\n",
    "scp -r /scratch/MOryzae/SNP san:/projects/medium/CIBiG_MOryzae/"
   ]
  }
 ],
 "metadata": {
  "kernelspec": {
   "display_name": "Bash",
   "language": "bash",
   "name": "bash"
  },
  "language_info": {
   "codemirror_mode": "shell",
   "file_extension": ".sh",
   "mimetype": "text/x-sh",
   "name": "bash"
  }
 },
 "nbformat": 4,
 "nbformat_minor": 5
}
